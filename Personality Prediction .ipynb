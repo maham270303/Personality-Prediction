{
 "cells": [
  {
   "cell_type": "raw",
   "id": "8551cc1e",
   "metadata": {},
   "source": [
    "The MBTI® assessment is designed to help people identify and gain some understanding around how they take in information and make decisions, the patterns of perception and judgment, as seen in normal, healthy behavior.\n",
    "\n",
    "The Myers-Briggs framework consists of eight preferences organized into four pairs of opposites. Your MBTI personality type represents your natural preferences in four important aspects of personality. We use all the preferences, but most people prefer one side of a preference pair more than the other which accounts for the natural personality differences between people.\n",
    "\n",
    "Preference pairs\n",
    "\n",
    "Extraversion (E) or Introversion (I)\n",
    "Opposite ways to direct and receive energy\n",
    "Do you prefer to focus on the outer world or your own inner world?\n",
    "\n",
    "Sensing (S) or Intuition (N)\n",
    "Opposite ways to take in information\n",
    "Do you prefer to focus on the facts or the big picture?\n",
    "\n",
    "Thinking (T) or Feeling (F)\n",
    "Opposite ways to decide and come to conclusions\n",
    "Do you prefer to take an objective or an empathetic approach for deciding?\n",
    "\n",
    "Judging (J) or Perceiving (P)\n",
    "Opposite ways to approach the outside world\n",
    "Do you prefer to seek closure or stay open to new information?"
   ]
  },
  {
   "cell_type": "code",
   "execution_count": 1,
   "id": "f978107b",
   "metadata": {},
   "outputs": [
    {
     "name": "stderr",
     "output_type": "stream",
     "text": [
      "[nltk_data] Downloading package stopwords to\n",
      "[nltk_data]     C:\\Users\\farru\\AppData\\Roaming\\nltk_data...\n",
      "[nltk_data]   Package stopwords is already up-to-date!\n",
      "[nltk_data] Downloading package punkt to\n",
      "[nltk_data]     C:\\Users\\farru\\AppData\\Roaming\\nltk_data...\n",
      "[nltk_data]   Package punkt is already up-to-date!\n",
      "[nltk_data] Downloading package wordnet to\n",
      "[nltk_data]     C:\\Users\\farru\\AppData\\Roaming\\nltk_data...\n",
      "[nltk_data]   Package wordnet is already up-to-date!\n"
     ]
    },
    {
     "data": {
      "text/plain": [
       "True"
      ]
     },
     "execution_count": 1,
     "metadata": {},
     "output_type": "execute_result"
    }
   ],
   "source": [
    "import pandas as pd\n",
    "import numpy as np\n",
    "from sklearn.feature_extraction.text import TfidfVectorizer\n",
    "from sklearn.ensemble import RandomForestClassifier\n",
    "from sklearn.model_selection import train_test_split\n",
    "from sklearn.metrics import classification_report\n",
    "import re\n",
    "from nltk.corpus import stopwords\n",
    "from nltk.tokenize import word_tokenize\n",
    "from nltk.stem import WordNetLemmatizer\n",
    "import nltk\n",
    "\n",
    "nltk.download('stopwords')\n",
    "nltk.download('punkt')\n",
    "nltk.download('wordnet')\n"
   ]
  },
  {
   "cell_type": "code",
   "execution_count": 2,
   "id": "22aef6ad",
   "metadata": {},
   "outputs": [
    {
     "data": {
      "text/html": [
       "<div>\n",
       "<style scoped>\n",
       "    .dataframe tbody tr th:only-of-type {\n",
       "        vertical-align: middle;\n",
       "    }\n",
       "\n",
       "    .dataframe tbody tr th {\n",
       "        vertical-align: top;\n",
       "    }\n",
       "\n",
       "    .dataframe thead th {\n",
       "        text-align: right;\n",
       "    }\n",
       "</style>\n",
       "<table border=\"1\" class=\"dataframe\">\n",
       "  <thead>\n",
       "    <tr style=\"text-align: right;\">\n",
       "      <th></th>\n",
       "      <th>type</th>\n",
       "      <th>posts</th>\n",
       "    </tr>\n",
       "  </thead>\n",
       "  <tbody>\n",
       "    <tr>\n",
       "      <th>0</th>\n",
       "      <td>INFJ</td>\n",
       "      <td>'http://www.youtube.com/watch?v=qsXHcwe3krw|||...</td>\n",
       "    </tr>\n",
       "    <tr>\n",
       "      <th>1</th>\n",
       "      <td>ENTP</td>\n",
       "      <td>'I'm finding the lack of me in these posts ver...</td>\n",
       "    </tr>\n",
       "    <tr>\n",
       "      <th>2</th>\n",
       "      <td>INTP</td>\n",
       "      <td>'Good one  _____   https://www.youtube.com/wat...</td>\n",
       "    </tr>\n",
       "    <tr>\n",
       "      <th>3</th>\n",
       "      <td>INTJ</td>\n",
       "      <td>'Dear INTP,   I enjoyed our conversation the o...</td>\n",
       "    </tr>\n",
       "    <tr>\n",
       "      <th>4</th>\n",
       "      <td>ENTJ</td>\n",
       "      <td>'You're fired.|||That's another silly misconce...</td>\n",
       "    </tr>\n",
       "  </tbody>\n",
       "</table>\n",
       "</div>"
      ],
      "text/plain": [
       "   type                                              posts\n",
       "0  INFJ  'http://www.youtube.com/watch?v=qsXHcwe3krw|||...\n",
       "1  ENTP  'I'm finding the lack of me in these posts ver...\n",
       "2  INTP  'Good one  _____   https://www.youtube.com/wat...\n",
       "3  INTJ  'Dear INTP,   I enjoyed our conversation the o...\n",
       "4  ENTJ  'You're fired.|||That's another silly misconce..."
      ]
     },
     "execution_count": 2,
     "metadata": {},
     "output_type": "execute_result"
    }
   ],
   "source": [
    "dataset = pd.read_csv('mbti_1.csv') \n",
    "dataset.head()\n"
   ]
  },
  {
   "cell_type": "code",
   "execution_count": 3,
   "id": "0710f2fc",
   "metadata": {},
   "outputs": [
    {
     "name": "stdout",
     "output_type": "stream",
     "text": [
      "Index(['type', 'posts'], dtype='object')\n"
     ]
    }
   ],
   "source": [
    "print(dataset.columns)"
   ]
  },
  {
   "cell_type": "code",
   "execution_count": 4,
   "id": "bd375325",
   "metadata": {},
   "outputs": [
    {
     "name": "stderr",
     "output_type": "stream",
     "text": [
      "[nltk_data] Downloading package stopwords to\n",
      "[nltk_data]     C:\\Users\\farru\\AppData\\Roaming\\nltk_data...\n",
      "[nltk_data]   Package stopwords is already up-to-date!\n",
      "[nltk_data] Downloading package punkt to\n",
      "[nltk_data]     C:\\Users\\farru\\AppData\\Roaming\\nltk_data...\n",
      "[nltk_data]   Package punkt is already up-to-date!\n",
      "[nltk_data] Downloading package wordnet to\n",
      "[nltk_data]     C:\\Users\\farru\\AppData\\Roaming\\nltk_data...\n",
      "[nltk_data]   Package wordnet is already up-to-date!\n"
     ]
    }
   ],
   "source": [
    "nltk.download('stopwords')\n",
    "nltk.download('punkt')\n",
    "nltk.download('wordnet')\n",
    "\n",
    "# Load stopwords once outside the function to improve performance\n",
    "stop_words = set(stopwords.words('english'))"
   ]
  },
  {
   "cell_type": "code",
   "execution_count": 5,
   "id": "095b2161",
   "metadata": {},
   "outputs": [],
   "source": [
    "from joblib import Parallel, delayed\n",
    "\n",
    "# Preprocessing function\n",
    "def preprocess_posts(posts):\n",
    "    # Replace '|||' with a space (if you want to split posts into separate samples, apply this step)\n",
    "    posts = posts.replace('|||', ' ')\n",
    "    \n",
    "    # Remove URLs and special characters in one step\n",
    "    posts = re.sub(r'http\\S+|www\\S+|[^A-Za-z\\s]', '', posts)\n",
    "    \n",
    "    # Convert to lowercase\n",
    "    posts = posts.lower()\n",
    "    \n",
    "    # Tokenize the text\n",
    "    tokens = word_tokenize(posts)\n",
    "    \n",
    "    # Remove stopwords and lemmatize in one pass\n",
    "    lemmatizer = WordNetLemmatizer()\n",
    "    tokens = [lemmatizer.lemmatize(word) for word in tokens if word not in stop_words]\n",
    "    \n",
    "    # Join tokens back into a string\n",
    "    return ' '.join(tokens)\n",
    "\n",
    "# Function to process a single post\n",
    "def process_single_post(post):\n",
    "    return preprocess_posts(post)\n",
    "\n",
    "# Parallelize the process\n",
    "dataset['cleaned_posts'] = Parallel(n_jobs=-1)(delayed(process_single_post)(post) for post in dataset['posts'])"
   ]
  },
  {
   "cell_type": "code",
   "execution_count": 6,
   "id": "fbea2484",
   "metadata": {},
   "outputs": [],
   "source": [
    "# Map MBTI to Big Five traits\n",
    "def map_to_big_five(mbti):\n",
    "    traits = {\n",
    "        'I': 1, 'E': 0,  # Introversion (1) vs. Extraversion (0)\n",
    "        'N': 1, 'S': 0,  # Openness (1) vs. Sensing (0)\n",
    "        'F': 1, 'T': 0,  # Agreeableness (1) vs. Thinking (0)\n",
    "        'P': 1, 'J': 0   # Conscientiousness (1) vs. Judging (0)\n",
    "    }\n",
    "    return [\n",
    "        traits[mbti[0]],  # I/E\n",
    "        traits[mbti[1]],  # S/N\n",
    "        traits[mbti[2]],  # T/F\n",
    "        traits[mbti[3]]   # J/P\n",
    "    ]\n",
    "\n",
    "# Apply mapping\n",
    "dataset[['introversion', 'openness', 'agreeableness', 'conscientiousness']] = dataset['type'].apply(map_to_big_five).tolist()\n"
   ]
  },
  {
   "cell_type": "code",
   "execution_count": 10,
   "id": "04376368",
   "metadata": {},
   "outputs": [],
   "source": [
    "dataset = dataset[dataset['posts'].str.len() > 20]\n",
    "tfidf = TfidfVectorizer(max_features=1000, ngram_range=(1, 2))\n",
    "features = tfidf.fit_transform(dataset['cleaned_posts'])"
   ]
  },
  {
   "cell_type": "code",
   "execution_count": 13,
   "id": "68f8b933",
   "metadata": {},
   "outputs": [
    {
     "name": "stderr",
     "output_type": "stream",
     "text": [
      "C:\\Users\\farru\\AppData\\Local\\Programs\\Python\\Python310\\lib\\site-packages\\sklearn\\svm\\_classes.py:32: FutureWarning: The default value of `dual` will change from `True` to `'auto'` in 1.5. Set the value of `dual` explicitly to suppress the warning.\n",
      "  warnings.warn(\n"
     ]
    },
    {
     "name": "stdout",
     "output_type": "stream",
     "text": [
      "              precision    recall  f1-score   support\n",
      "\n",
      "        ENFJ       0.58      0.34      0.43        41\n",
      "        ENFP       0.60      0.58      0.59       125\n",
      "        ENTJ       0.66      0.48      0.55        44\n",
      "        ENTP       0.56      0.57      0.56       135\n",
      "        ESFJ       0.00      0.00      0.00         7\n",
      "        ESFP       0.00      0.00      0.00         8\n",
      "        ESTJ       0.00      0.00      0.00         7\n",
      "        ESTP       0.71      0.33      0.45        15\n",
      "        INFJ       0.59      0.62      0.61       288\n",
      "        INFP       0.68      0.77      0.72       370\n",
      "        INTJ       0.58      0.65      0.61       193\n",
      "        INTP       0.65      0.73      0.69       293\n",
      "        ISFJ       0.79      0.51      0.62        45\n",
      "        ISFP       0.69      0.47      0.56        53\n",
      "        ISTJ       0.63      0.39      0.48        44\n",
      "        ISTP       0.64      0.54      0.59        67\n",
      "\n",
      "    accuracy                           0.63      1735\n",
      "   macro avg       0.52      0.44      0.47      1735\n",
      "weighted avg       0.62      0.63      0.62      1735\n",
      "\n",
      "[[ 14   4   0   0   0   0   0   0   9   6   2   4   0   0   2   0]\n",
      " [  0  72   0   6   0   0   0   1  13  15   7  10   0   0   0   1]\n",
      " [  2   3  21   5   0   0   0   0   2   2   6   2   0   0   0   1]\n",
      " [  0   9   1  77   0   0   1   0  13   6  11  15   0   1   0   1]\n",
      " [  0   0   0   2   0   0   0   0   0   1   0   2   1   0   1   0]\n",
      " [  0   2   2   1   0   0   0   0   0   1   0   1   0   1   0   0]\n",
      " [  0   0   1   1   0   0   0   0   2   1   1   1   0   0   0   0]\n",
      " [  0   1   0   0   0   0   0   5   1   0   1   4   0   0   0   3]\n",
      " [  3   6   3  13   0   0   0   0 178  42  23  13   1   1   3   2]\n",
      " [  3  12   1   9   0   0   0   0  25 285   8  21   1   1   1   3]\n",
      " [  1   5   2   2   1   0   0   0  21  11 125  22   0   0   2   1]\n",
      " [  0   2   0  11   0   0   0   1  20  20  13 214   1   4   0   7]\n",
      " [  0   0   1   1   0   0   0   0   5   7   0   7  23   1   0   0]\n",
      " [  0   1   0   3   1   0   1   0   2  16   2   1   0  25   1   0]\n",
      " [  1   2   0   3   0   0   0   0   3   2   7   5   2   1  17   1]\n",
      " [  0   2   0   4   0   0   0   0   6   3   9   6   0   1   0  36]]\n"
     ]
    },
    {
     "name": "stderr",
     "output_type": "stream",
     "text": [
      "C:\\Users\\farru\\AppData\\Local\\Programs\\Python\\Python310\\lib\\site-packages\\sklearn\\metrics\\_classification.py:1469: UndefinedMetricWarning: Precision and F-score are ill-defined and being set to 0.0 in labels with no predicted samples. Use `zero_division` parameter to control this behavior.\n",
      "  _warn_prf(average, modifier, msg_start, len(result))\n",
      "C:\\Users\\farru\\AppData\\Local\\Programs\\Python\\Python310\\lib\\site-packages\\sklearn\\metrics\\_classification.py:1469: UndefinedMetricWarning: Precision and F-score are ill-defined and being set to 0.0 in labels with no predicted samples. Use `zero_division` parameter to control this behavior.\n",
      "  _warn_prf(average, modifier, msg_start, len(result))\n",
      "C:\\Users\\farru\\AppData\\Local\\Programs\\Python\\Python310\\lib\\site-packages\\sklearn\\metrics\\_classification.py:1469: UndefinedMetricWarning: Precision and F-score are ill-defined and being set to 0.0 in labels with no predicted samples. Use `zero_division` parameter to control this behavior.\n",
      "  _warn_prf(average, modifier, msg_start, len(result))\n"
     ]
    }
   ],
   "source": [
    "from sklearn.metrics import confusion_matrix\n",
    "# Split data\n",
    "X_train, X_test, y_train, y_test = train_test_split(features, dataset['type'], test_size=0.2, random_state=42)\n",
    "\n",
    "from sklearn.svm import LinearSVC\n",
    "\n",
    "model = LinearSVC()\n",
    "model.fit(X_train, y_train)\n",
    "\n",
    "y_pred = model.predict(X_test)\n",
    "print(classification_report(y_test, y_pred))\n",
    "print(confusion_matrix(y_test, y_pred))"
   ]
  },
  {
   "cell_type": "code",
   "execution_count": 18,
   "id": "e3e30401",
   "metadata": {},
   "outputs": [
    {
     "name": "stdout",
     "output_type": "stream",
     "text": [
      "\n",
      "    Predicted Personality: INTP\n",
      "    Summary: The Thinker - Logical, analytical, and abstract.\n",
      "    \n",
      "    Preference Pairs:\n",
      "    E/I: Introversion - Focuses on the inner world and reflective thoughts.\n",
      "S/N: Intuition - Prefers abstract ideas over facts.\n",
      "T/F: Thinking - Prioritizes objectivity and logical consistency.\n",
      "J/P: Perceiving - Prefers flexibility, spontaneous and adaptable.\n",
      "    \n"
     ]
    },
    {
     "data": {
      "image/png": "[encoded data removed]",
      "text/plain": [
       "<Figure size 800x500 with 1 Axes>"
      ]
     },
     "metadata": {},
     "output_type": "display_data"
    }
   ],
   "source": [
    "import matplotlib.pyplot as plt\n",
    "# Personality descriptions and preferences\n",
    "personality_descriptions = {\n",
    "    'INFJ': {\n",
    "        'summary': \"The Advocate - Quiet, mystical, idealistic, and creative.\",\n",
    "        'preferences': {\n",
    "            'E/I': \"Introversion - Focuses on the inner world and reflective thoughts.\",\n",
    "            'S/N': \"Intuition - Prefers to focus on the big picture and abstract ideas.\",\n",
    "            'T/F': \"Feeling - Decides empathetically, values harmony.\",\n",
    "            'J/P': \"Judging - Seeks closure, organized and planned.\"\n",
    "        },\n",
    "        'trait_scores': [7, 8, 9, 8]  # Example scores for visualization\n",
    "    },\n",
    "    'ENTP': {\n",
    "        'summary': \"The Debater - Energetic, innovative, and loves intellectual debates.\",\n",
    "        'preferences': {\n",
    "            'E/I': \"Extraversion - Directs energy outward, enjoys social interactions.\",\n",
    "            'S/N': \"Intuition - Focuses on the big picture, innovative and curious.\",\n",
    "            'T/F': \"Thinking - Decides objectively, values logic.\",\n",
    "            'J/P': \"Perceiving - Stays open to new information, spontaneous.\"\n",
    "        },\n",
    "        'trait_scores': [9, 7, 8, 6]  # Example scores for visualization\n",
    "    },\n",
    "    'INTP': {\n",
    "        'summary': \"The Thinker - Logical, analytical, and abstract.\",\n",
    "        'preferences': {\n",
    "            'E/I': \"Introversion - Focuses on the inner world and reflective thoughts.\",\n",
    "            'S/N': \"Intuition - Prefers abstract ideas over facts.\",\n",
    "            'T/F': \"Thinking - Prioritizes objectivity and logical consistency.\",\n",
    "            'J/P': \"Perceiving - Prefers flexibility, spontaneous and adaptable.\"\n",
    "        },\n",
    "        'trait_scores': [6, 8, 9, 7]  # Example scores for visualization\n",
    "    }\n",
    "}\n",
    "\n",
    "# Prediction function\n",
    "def predict_personality(text):\n",
    "    cleaned_text = text.lower().replace(r'[^a-z\\s]', '')\n",
    "    vectorized_text = tfidf.transform([cleaned_text])\n",
    "    prediction = model.predict(vectorized_text)[0]\n",
    "    return prediction\n",
    "\n",
    "# Visualization function\n",
    "def visualize_personality(personality_type):\n",
    "    details = personality_descriptions.get(personality_type, {})\n",
    "    if not details:\n",
    "        print(\"No details available for this personality type.\")\n",
    "        return\n",
    "    \n",
    "    traits = ['Extraversion/Introversion', 'Sensing/Intuition', 'Thinking/Feeling', 'Judging/Perceiving']\n",
    "    scores = details['trait_scores']\n",
    "    \n",
    "    plt.figure(figsize=(8, 5))\n",
    "    plt.bar(traits, scores, color='skyblue')\n",
    "    plt.ylim(0, 10)\n",
    "    plt.title(f'Personality Traits for {personality_type}')\n",
    "    plt.xlabel('Traits')\n",
    "    plt.ylabel('Score')\n",
    "    plt.show()\n",
    "\n",
    "# Generate output\n",
    "def generate_output(personality_type):\n",
    "    details = personality_descriptions.get(personality_type, {})\n",
    "    if not details:\n",
    "        return \"No details available for this personality type.\"\n",
    "    \n",
    "    summary = details['summary']\n",
    "    preferences = \"\\n\".join(\n",
    "        [f\"{key}: {value}\" for key, value in details['preferences'].items()]\n",
    "    )\n",
    "    \n",
    "    return f\"\"\"\n",
    "    Predicted Personality: {personality_type}\n",
    "    Summary: {summary}\n",
    "    \n",
    "    Preference Pairs:\n",
    "    {preferences}\n",
    "    \"\"\"\n",
    "\n",
    "# User input\n",
    "user_input = \"I enjoy debating and coming up with creative solutions.\"\n",
    "predicted_type = predict_personality(user_input)\n",
    "\n",
    "# Output results\n",
    "output = generate_output(predicted_type)\n",
    "print(output)\n",
    "\n",
    "# Visualize results\n",
    "visualize_personality(predicted_type)"
   ]
  },
  {
   "cell_type": "code",
   "execution_count": null,
   "id": "020c2ade",
   "metadata": {},
   "outputs": [],
   "source": []
  }
 ],
 "metadata": {
  "kernelspec": {
   "display_name": "Python 3 (ipykernel)",
   "language": "python",
   "name": "python3"
  },
  "language_info": {
   "codemirror_mode": {
    "name": "ipython",
    "version": 3
   },
   "file_extension": ".py",
   "mimetype": "text/x-python",
   "name": "python",
   "nbconvert_exporter": "python",
   "pygments_lexer": "ipython3",
   "version": "3.10.11"
  }
 },
 "nbformat": 4,
 "nbformat_minor": 5
}
